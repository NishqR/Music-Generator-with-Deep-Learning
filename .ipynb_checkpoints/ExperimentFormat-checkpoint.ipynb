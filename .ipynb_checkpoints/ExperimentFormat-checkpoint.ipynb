{
 "cells": [
  {
   "cell_type": "code",
   "execution_count": 1,
   "metadata": {
    "colab": {
     "base_uri": "https://localhost:8080/"
    },
    "id": "upSps25Bols2",
    "outputId": "24a2f538-1273-4558-d19d-63af40adc43f"
   },
   "outputs": [
    {
     "name": "stdout",
     "output_type": "stream",
     "text": [
      "Collecting tfa-nightly\n",
      "  Downloading tfa_nightly-0.15.0.dev20211009190407-cp37-cp37m-manylinux_2_12_x86_64.manylinux2010_x86_64.whl (1.1 MB)\n",
      "\u001b[?25l\r",
      "\u001b[K     |▎                               | 10 kB 30.9 MB/s eta 0:00:01\r",
      "\u001b[K     |▋                               | 20 kB 19.6 MB/s eta 0:00:01\r",
      "\u001b[K     |▉                               | 30 kB 15.5 MB/s eta 0:00:01\r",
      "\u001b[K     |█▏                              | 40 kB 14.1 MB/s eta 0:00:01\r",
      "\u001b[K     |█▌                              | 51 kB 7.2 MB/s eta 0:00:01\r",
      "\u001b[K     |█▊                              | 61 kB 7.0 MB/s eta 0:00:01\r",
      "\u001b[K     |██                              | 71 kB 7.4 MB/s eta 0:00:01\r",
      "\u001b[K     |██▍                             | 81 kB 8.3 MB/s eta 0:00:01\r",
      "\u001b[K     |██▋                             | 92 kB 8.7 MB/s eta 0:00:01\r",
      "\u001b[K     |███                             | 102 kB 6.9 MB/s eta 0:00:01\r",
      "\u001b[K     |███▎                            | 112 kB 6.9 MB/s eta 0:00:01\r",
      "\u001b[K     |███▌                            | 122 kB 6.9 MB/s eta 0:00:01\r",
      "\u001b[K     |███▉                            | 133 kB 6.9 MB/s eta 0:00:01\r",
      "\u001b[K     |████▏                           | 143 kB 6.9 MB/s eta 0:00:01\r",
      "\u001b[K     |████▍                           | 153 kB 6.9 MB/s eta 0:00:01\r",
      "\u001b[K     |████▊                           | 163 kB 6.9 MB/s eta 0:00:01\r",
      "\u001b[K     |█████                           | 174 kB 6.9 MB/s eta 0:00:01\r",
      "\u001b[K     |█████▎                          | 184 kB 6.9 MB/s eta 0:00:01\r",
      "\u001b[K     |█████▋                          | 194 kB 6.9 MB/s eta 0:00:01\r",
      "\u001b[K     |█████▉                          | 204 kB 6.9 MB/s eta 0:00:01\r",
      "\u001b[K     |██████▏                         | 215 kB 6.9 MB/s eta 0:00:01\r",
      "\u001b[K     |██████▌                         | 225 kB 6.9 MB/s eta 0:00:01\r",
      "\u001b[K     |██████▊                         | 235 kB 6.9 MB/s eta 0:00:01\r",
      "\u001b[K     |███████                         | 245 kB 6.9 MB/s eta 0:00:01\r",
      "\u001b[K     |███████▍                        | 256 kB 6.9 MB/s eta 0:00:01\r",
      "\u001b[K     |███████▋                        | 266 kB 6.9 MB/s eta 0:00:01\r",
      "\u001b[K     |████████                        | 276 kB 6.9 MB/s eta 0:00:01\r",
      "\u001b[K     |████████▎                       | 286 kB 6.9 MB/s eta 0:00:01\r",
      "\u001b[K     |████████▌                       | 296 kB 6.9 MB/s eta 0:00:01\r",
      "\u001b[K     |████████▉                       | 307 kB 6.9 MB/s eta 0:00:01\r",
      "\u001b[K     |█████████                       | 317 kB 6.9 MB/s eta 0:00:01\r",
      "\u001b[K     |█████████▍                      | 327 kB 6.9 MB/s eta 0:00:01\r",
      "\u001b[K     |█████████▊                      | 337 kB 6.9 MB/s eta 0:00:01\r",
      "\u001b[K     |██████████                      | 348 kB 6.9 MB/s eta 0:00:01\r",
      "\u001b[K     |██████████▎                     | 358 kB 6.9 MB/s eta 0:00:01\r",
      "\u001b[K     |██████████▋                     | 368 kB 6.9 MB/s eta 0:00:01\r",
      "\u001b[K     |██████████▉                     | 378 kB 6.9 MB/s eta 0:00:01\r",
      "\u001b[K     |███████████▏                    | 389 kB 6.9 MB/s eta 0:00:01\r",
      "\u001b[K     |███████████▌                    | 399 kB 6.9 MB/s eta 0:00:01\r",
      "\u001b[K     |███████████▊                    | 409 kB 6.9 MB/s eta 0:00:01\r",
      "\u001b[K     |████████████                    | 419 kB 6.9 MB/s eta 0:00:01\r",
      "\u001b[K     |████████████▍                   | 430 kB 6.9 MB/s eta 0:00:01\r",
      "\u001b[K     |████████████▋                   | 440 kB 6.9 MB/s eta 0:00:01\r",
      "\u001b[K     |█████████████                   | 450 kB 6.9 MB/s eta 0:00:01\r",
      "\u001b[K     |█████████████▏                  | 460 kB 6.9 MB/s eta 0:00:01\r",
      "\u001b[K     |█████████████▌                  | 471 kB 6.9 MB/s eta 0:00:01\r",
      "\u001b[K     |█████████████▉                  | 481 kB 6.9 MB/s eta 0:00:01\r",
      "\u001b[K     |██████████████                  | 491 kB 6.9 MB/s eta 0:00:01\r",
      "\u001b[K     |██████████████▍                 | 501 kB 6.9 MB/s eta 0:00:01\r",
      "\u001b[K     |██████████████▊                 | 512 kB 6.9 MB/s eta 0:00:01\r",
      "\u001b[K     |███████████████                 | 522 kB 6.9 MB/s eta 0:00:01\r",
      "\u001b[K     |███████████████▎                | 532 kB 6.9 MB/s eta 0:00:01\r",
      "\u001b[K     |███████████████▋                | 542 kB 6.9 MB/s eta 0:00:01\r",
      "\u001b[K     |███████████████▉                | 552 kB 6.9 MB/s eta 0:00:01\r",
      "\u001b[K     |████████████████▏               | 563 kB 6.9 MB/s eta 0:00:01\r",
      "\u001b[K     |████████████████▌               | 573 kB 6.9 MB/s eta 0:00:01\r",
      "\u001b[K     |████████████████▊               | 583 kB 6.9 MB/s eta 0:00:01\r",
      "\u001b[K     |█████████████████               | 593 kB 6.9 MB/s eta 0:00:01\r",
      "\u001b[K     |█████████████████▎              | 604 kB 6.9 MB/s eta 0:00:01\r",
      "\u001b[K     |█████████████████▋              | 614 kB 6.9 MB/s eta 0:00:01\r",
      "\u001b[K     |██████████████████              | 624 kB 6.9 MB/s eta 0:00:01\r",
      "\u001b[K     |██████████████████▏             | 634 kB 6.9 MB/s eta 0:00:01\r",
      "\u001b[K     |██████████████████▌             | 645 kB 6.9 MB/s eta 0:00:01\r",
      "\u001b[K     |██████████████████▉             | 655 kB 6.9 MB/s eta 0:00:01\r",
      "\u001b[K     |███████████████████             | 665 kB 6.9 MB/s eta 0:00:01\r",
      "\u001b[K     |███████████████████▍            | 675 kB 6.9 MB/s eta 0:00:01\r",
      "\u001b[K     |███████████████████▊            | 686 kB 6.9 MB/s eta 0:00:01\r",
      "\u001b[K     |████████████████████            | 696 kB 6.9 MB/s eta 0:00:01\r",
      "\u001b[K     |████████████████████▎           | 706 kB 6.9 MB/s eta 0:00:01\r",
      "\u001b[K     |████████████████████▋           | 716 kB 6.9 MB/s eta 0:00:01\r",
      "\u001b[K     |████████████████████▉           | 727 kB 6.9 MB/s eta 0:00:01\r",
      "\u001b[K     |█████████████████████▏          | 737 kB 6.9 MB/s eta 0:00:01\r",
      "\u001b[K     |█████████████████████▍          | 747 kB 6.9 MB/s eta 0:00:01\r",
      "\u001b[K     |█████████████████████▊          | 757 kB 6.9 MB/s eta 0:00:01\r",
      "\u001b[K     |██████████████████████          | 768 kB 6.9 MB/s eta 0:00:01\r",
      "\u001b[K     |██████████████████████▎         | 778 kB 6.9 MB/s eta 0:00:01\r",
      "\u001b[K     |██████████████████████▋         | 788 kB 6.9 MB/s eta 0:00:01\r",
      "\u001b[K     |███████████████████████         | 798 kB 6.9 MB/s eta 0:00:01\r",
      "\u001b[K     |███████████████████████▏        | 808 kB 6.9 MB/s eta 0:00:01\r",
      "\u001b[K     |███████████████████████▌        | 819 kB 6.9 MB/s eta 0:00:01\r",
      "\u001b[K     |███████████████████████▉        | 829 kB 6.9 MB/s eta 0:00:01\r",
      "\u001b[K     |████████████████████████        | 839 kB 6.9 MB/s eta 0:00:01\r",
      "\u001b[K     |████████████████████████▍       | 849 kB 6.9 MB/s eta 0:00:01\r",
      "\u001b[K     |████████████████████████▊       | 860 kB 6.9 MB/s eta 0:00:01\r",
      "\u001b[K     |█████████████████████████       | 870 kB 6.9 MB/s eta 0:00:01\r",
      "\u001b[K     |█████████████████████████▎      | 880 kB 6.9 MB/s eta 0:00:01\r",
      "\u001b[K     |█████████████████████████▌      | 890 kB 6.9 MB/s eta 0:00:01\r",
      "\u001b[K     |█████████████████████████▉      | 901 kB 6.9 MB/s eta 0:00:01\r",
      "\u001b[K     |██████████████████████████▏     | 911 kB 6.9 MB/s eta 0:00:01\r",
      "\u001b[K     |██████████████████████████▍     | 921 kB 6.9 MB/s eta 0:00:01\r",
      "\u001b[K     |██████████████████████████▊     | 931 kB 6.9 MB/s eta 0:00:01\r",
      "\u001b[K     |███████████████████████████     | 942 kB 6.9 MB/s eta 0:00:01\r",
      "\u001b[K     |███████████████████████████▎    | 952 kB 6.9 MB/s eta 0:00:01\r",
      "\u001b[K     |███████████████████████████▋    | 962 kB 6.9 MB/s eta 0:00:01\r",
      "\u001b[K     |████████████████████████████    | 972 kB 6.9 MB/s eta 0:00:01\r",
      "\u001b[K     |████████████████████████████▏   | 983 kB 6.9 MB/s eta 0:00:01\r",
      "\u001b[K     |████████████████████████████▌   | 993 kB 6.9 MB/s eta 0:00:01\r",
      "\u001b[K     |████████████████████████████▉   | 1.0 MB 6.9 MB/s eta 0:00:01\r",
      "\u001b[K     |█████████████████████████████   | 1.0 MB 6.9 MB/s eta 0:00:01\r",
      "\u001b[K     |█████████████████████████████▍  | 1.0 MB 6.9 MB/s eta 0:00:01\r",
      "\u001b[K     |█████████████████████████████▋  | 1.0 MB 6.9 MB/s eta 0:00:01\r",
      "\u001b[K     |██████████████████████████████  | 1.0 MB 6.9 MB/s eta 0:00:01\r",
      "\u001b[K     |██████████████████████████████▎ | 1.1 MB 6.9 MB/s eta 0:00:01\r",
      "\u001b[K     |██████████████████████████████▌ | 1.1 MB 6.9 MB/s eta 0:00:01\r",
      "\u001b[K     |██████████████████████████████▉ | 1.1 MB 6.9 MB/s eta 0:00:01\r",
      "\u001b[K     |███████████████████████████████▏| 1.1 MB 6.9 MB/s eta 0:00:01\r",
      "\u001b[K     |███████████████████████████████▍| 1.1 MB 6.9 MB/s eta 0:00:01\r",
      "\u001b[K     |███████████████████████████████▊| 1.1 MB 6.9 MB/s eta 0:00:01\r",
      "\u001b[K     |████████████████████████████████| 1.1 MB 6.9 MB/s \n",
      "\u001b[?25hRequirement already satisfied: typeguard>=2.7 in /usr/local/lib/python3.7/dist-packages (from tfa-nightly) (2.7.1)\n",
      "Installing collected packages: tfa-nightly\n",
      "Successfully installed tfa-nightly-0.15.0.dev20211009190407\n",
      "Collecting pygame\n",
      "  Downloading pygame-2.0.2-cp37-cp37m-manylinux_2_5_x86_64.manylinux1_x86_64.whl (13.8 MB)\n",
      "\u001b[K     |████████████████████████████████| 13.8 MB 6.5 MB/s \n",
      "\u001b[?25hInstalling collected packages: pygame\n",
      "Successfully installed pygame-2.0.2\n"
     ]
    }
   ],
   "source": [
    "!pip install tfa-nightly\n",
    "!pip install pygame"
   ]
  },
  {
   "cell_type": "code",
   "execution_count": 2,
   "metadata": {
    "colab": {
     "base_uri": "https://localhost:8080/"
    },
    "id": "OUT1zL0qoq85",
    "outputId": "96c230d3-67f2-4887-d0a3-adb535de5f5a"
   },
   "outputs": [
    {
     "name": "stdout",
     "output_type": "stream",
     "text": [
      "pygame 2.0.2 (SDL 2.0.16, Python 3.7.12)\n",
      "Hello from the pygame community. https://www.pygame.org/contribute.html\n",
      "Tensorflow version is:  2.6.0\n",
      "Tue Oct 12 09:53:06 2021       \n",
      "+-----------------------------------------------------------------------------+\n",
      "| NVIDIA-SMI 470.74       Driver Version: 460.32.03    CUDA Version: 11.2     |\n",
      "|-------------------------------+----------------------+----------------------+\n",
      "| GPU  Name        Persistence-M| Bus-Id        Disp.A | Volatile Uncorr. ECC |\n",
      "| Fan  Temp  Perf  Pwr:Usage/Cap|         Memory-Usage | GPU-Util  Compute M. |\n",
      "|                               |                      |               MIG M. |\n",
      "|===============================+======================+======================|\n",
      "|   0  Tesla P100-PCIE...  Off  | 00000000:00:04.0 Off |                    0 |\n",
      "| N/A   41C    P0    26W / 250W |      2MiB / 16280MiB |      0%      Default |\n",
      "|                               |                      |                  N/A |\n",
      "+-------------------------------+----------------------+----------------------+\n",
      "                                                                               \n",
      "+-----------------------------------------------------------------------------+\n",
      "| Processes:                                                                  |\n",
      "|  GPU   GI   CI        PID   Type   Process name                  GPU Memory |\n",
      "|        ID   ID                                                   Usage      |\n",
      "|=============================================================================|\n",
      "|  No running processes found                                                 |\n",
      "+-----------------------------------------------------------------------------+\n"
     ]
    }
   ],
   "source": [
    "import os\n",
    "\n",
    "import numpy as np\n",
    "import matplotlib.pyplot as plt\n",
    "import pandas as pd\n",
    "from difflib import SequenceMatcher\n",
    "\n",
    "import random\n",
    "import json\n",
    "import warnings\n",
    "warnings.filterwarnings('ignore')\n",
    "\n",
    "import tensorflow as tf\n",
    "import tensorflow.keras as keras\n",
    "import tensorflow_addons as tfa\n",
    "from tensorflow.keras.models import Sequential\n",
    "from tensorflow.keras.layers import LSTM, Dropout, TimeDistributed, Dense, Activation, Embedding\n",
    "from sklearn.model_selection import train_test_split\n",
    "\n",
    "import pygame\n",
    "from IPython.display import Image, display\n",
    "\n",
    "gpus = tf.config.experimental.list_physical_devices('GPU') \n",
    "for gpu in gpus: \n",
    "  tf.config.experimental.set_memory_growth(gpu, True)\n",
    "\n",
    "print(\"Tensorflow version is: \", tf.__version__)\n",
    "assert tf.__version__[0] == '2'\n",
    "\n",
    "%load_ext tensorboard\n",
    "\n",
    "gpu_info = !nvidia-smi\n",
    "gpu_info = '\\n'.join(gpu_info)\n",
    "if gpu_info.find('failed') >= 0:\n",
    "  print('Not connected to a GPU')\n",
    "else:\n",
    "  print(gpu_info)\n"
   ]
  },
  {
   "cell_type": "code",
   "execution_count": 2,
   "metadata": {
    "id": "Hy0i56nbpCA5"
   },
   "outputs": [],
   "source": []
  },
  {
   "cell_type": "markdown",
   "metadata": {
    "id": "5CBDmyRmpEBm"
   },
   "source": [
    "# Data Processing Functions"
   ]
  },
  {
   "cell_type": "code",
   "execution_count": 3,
   "metadata": {
    "id": "G6AEjYHvpC0U"
   },
   "outputs": [],
   "source": [
    "def convert_to_df(data_lines):\n",
    "    all_rows = []\n",
    "    index = 0\n",
    "    num_tunes = 0\n",
    "\n",
    "    for line in data_lines:\n",
    "\n",
    "        # To ensure we skip the newlines \n",
    "        if len(line) > 1:\n",
    "\n",
    "            #print(line)\n",
    "\n",
    "            if line[0] == 'X':\n",
    "                if index != 0: \n",
    "                    all_rows.append(dict_line)\n",
    "                    #print(\"**** Added info: Added dict_line to all rows ****\")\n",
    "                    #print()\n",
    "\n",
    "                dict_line = {}\n",
    "                dict_line['transcription'] = ''\n",
    "                index += 1\n",
    "                num_tunes += 1\n",
    "                #print(\"**** Added info: Dictionary reinitialized ****\")\n",
    "                #print()\n",
    "\n",
    "                continue\n",
    "\n",
    "            elif line[0] == 'M':\n",
    "                dict_line['M'] = line[2:].strip()\n",
    "                #print(\"**** Added info: Dictionary added M = \" + dict_line['M'] + \" ****\")\n",
    "                #print()\n",
    "                continue\n",
    "\n",
    "            elif line[0] == 'K':\n",
    "                dict_line['K'] = line[2:].strip()\n",
    "                #print(\"**** Added info: Dictionary added K = \" + dict_line['K'] + \" ****\")\n",
    "                #print()\n",
    "\n",
    "            elif (line[0] == \"|\" or line[1] != \":\") and (line[0] != \"%\") and (line != ''):\n",
    "                dict_line['transcription'] += line.strip()\n",
    "                #print(\"**** Added info : Dictionary added transcription ****\")\n",
    "                #print()\n",
    "\n",
    "\n",
    "    df = pd.DataFrame(all_rows)\n",
    "    return df\n",
    "\n",
    "\n",
    "def convert_sample_to_dict(generated_sample):\n",
    "    \n",
    "    dict_line = {}\n",
    "    dict_line['transcription'] = ''\n",
    "        \n",
    "    for line in generated_sample.splitlines():\n",
    "        if len(line) > 1:\n",
    "            #print(line)\n",
    "            if line[0] == \"M\":    \n",
    "                dict_line['M'] = line[2:].strip()\n",
    "                #print(\"**** Added info: Dictionary added M = \" + dict_line['M'] + \" ****\")\n",
    "                #print()\n",
    "                continue\n",
    "            \n",
    "            elif line[0] == 'K':\n",
    "                dict_line['K'] = line[2:].strip()\n",
    "                #print(\"**** Added info: Dictionary added K = \" + dict_line['K'] + \" ****\")\n",
    "                #print()\n",
    "                continue\n",
    "            \n",
    "            elif (line[0] == \"|\" or line[1] != \":\") and (line[0] != \"%\") and (line != ''):\n",
    "                dict_line['transcription'] += line.strip()\n",
    "                #print(\"**** Added info : Dictionary added transcription ****\")\n",
    "                #print()\n",
    "    \n",
    "    return dict_line\n",
    "\n",
    "\n",
    "def give_characters_indexes(data):\n",
    "\n",
    "    char_index_dict = {}\n",
    "    index_char_dict = {}\n",
    "    for (i, char) in enumerate(sorted(list(set(data)))):\n",
    "        char_index_dict[char] = i\n",
    "        index_char_dict[i] = char\n",
    "\n",
    "    with open(data_directory + char_index_json, mode = \"w\") as f:\n",
    "        json.dump(char_index_dict, f)\n",
    "\n",
    "    return char_index_dict, index_char_dict\n"
   ]
  },
  {
   "cell_type": "markdown",
   "metadata": {
    "id": "IzKxXVlQo57L"
   },
   "source": [
    "# Sequence Generator Functions"
   ]
  },
  {
   "cell_type": "code",
   "execution_count": 4,
   "metadata": {
    "id": "1YbUbqzColyy"
   },
   "outputs": [],
   "source": [
    "# Function taken and modified from here - https://medium.datadriveninvestor.com/music-generation-using-deep-learning-85010fb982e2 \n",
    "def generate_sequence(epoch_num, initial_index, seq_length):\n",
    "    \n",
    "    char_index_dict, index_char_dict = give_characters_indexes(data)\n",
    "    num_unique_chars = len(index_char_dict)\n",
    "    \n",
    "    #print(char_index_dict)\n",
    "    #print(index_char_dict)\n",
    "    #print(num_unique_chars)\n",
    "\n",
    "    #with open(os.path.join(data_directory, charIndex_json)) as f:\n",
    "    #    char_to_index = json.load(f)\n",
    "    #index_to_char = {i:ch for ch, i in char_to_index.items()}\n",
    "    #num_unique_chars = len(index_to_char)\n",
    "    \n",
    "\n",
    "    generator_model = make_model(num_unique_chars)\n",
    "    weights_dir = model_weights_directory + \"Weights_{}.h5\".format(num_epochs)\n",
    "    generator_model.load_weights(weights_dir)\n",
    "    #print(f\"Loaded {weights_dir}\")\n",
    "\n",
    "    sequence_index = [initial_index]\n",
    "    \n",
    "    for _ in range(seq_length):\n",
    "        batch = np.zeros((1, 1))\n",
    "        batch[0, 0] = sequence_index[-1]\n",
    "        \n",
    "        predicted_probs = generator_model.predict_on_batch(batch).ravel()\n",
    "        sample = np.random.choice(range(num_unique_chars), size = 1, p = predicted_probs)\n",
    "        sequence_index.append(sample[0])\n",
    "    \n",
    "    seq = ''.join(index_char_dict[c] for c in sequence_index)\n",
    "    \n",
    "    #print(f\"SEQ: {seq}\"\n",
    "    \n",
    "    if seq == '':\n",
    "        return ''\n",
    "\n",
    "    cnt = 0\n",
    "    for j in seq:\n",
    "        cnt += 1\n",
    "        if j == \"\\n\":\n",
    "            break\n",
    "    seq1 = seq[cnt:]\n",
    "\n",
    "    #print(f\"SEQ1: {seq1}\")\n",
    "    #above code is for ignoring the starting string of a generated sequence. This is because we are passing any arbitrary \n",
    "    #character to the model for generating music. Now, the model start generating sequence from that character itself which we \n",
    "    #have passed, so first few characters before \"\\n\" contains meaningless word. Mo222del start generating the music rhythm from\n",
    "    #next line onwards. The correct sequence it start generating from next line onwards which we are considering.\n",
    "    \n",
    "    cnt = 0\n",
    "    for j in seq1:\n",
    "        cnt += 1\n",
    "        if j == \"\\n\" and seq1[cnt] == \"\\n\":\n",
    "            break\n",
    "    seq2 = seq1[:cnt]\n",
    "    #print(f\"SEQ2: {seq2}\")\n",
    "    #Now our data contains three newline characters after every tune. So, the model has leart that too. So, above code is used for\n",
    "    #ignoring all the characters that model has generated after three new line characters. So, here we are considering only one\n",
    "    #tune of music at a time and finally we are returning it..\n",
    "    \n",
    "    return seq2\n"
   ]
  },
  {
   "cell_type": "code",
   "execution_count": 4,
   "metadata": {
    "id": "zYTIE1O3KlA3"
   },
   "outputs": [],
   "source": []
  },
  {
   "cell_type": "markdown",
   "metadata": {
    "id": "am0f0SYm36b9"
   },
   "source": [
    "# Evaluation Functions\n"
   ]
  },
  {
   "cell_type": "code",
   "execution_count": 24,
   "metadata": {
    "id": "0UYOfdPh379e"
   },
   "outputs": [],
   "source": [
    "def compare_distributions(music_df, generated_df, metric):\n",
    "    \n",
    "    generated_df_val_counts = dict(generated_df[metric].value_counts(normalize=True, ascending=False))\n",
    "    music_df_val_counts = dict(music_df[metric].value_counts(normalize=True, ascending=False))\n",
    "    \n",
    "    print()\n",
    "    print(\"Original Dataset Distribution\")\n",
    "    print(music_df_val_counts)\n",
    "    print(\"Generated Dataset Distribution\")\n",
    "    print(generated_df_val_counts)\n",
    "    \n",
    "    for key in music_df_val_counts.keys():\n",
    "        if key not in generated_df_val_counts.keys():\n",
    "            generated_df_val_counts[key] = 0\n",
    "\n",
    "    unique_keys = []\n",
    "    for key in generated_df_val_counts.keys():\n",
    "        if key not in music_df_val_counts.keys():\n",
    "            unique_keys.append(key)\n",
    "            music_df_val_counts[key] = 0\n",
    "\n",
    "    print()\n",
    "    print(f\"Unique '{metric}' values to generated dataset: {unique_keys}\")\n",
    "    print()\n",
    "\n",
    "    # Create figure\n",
    "    plt.figure(figsize=(15,7))\n",
    "    plt.grid(True)\n",
    "    \n",
    "    # Number of bars we want for the figure\n",
    "    num_bars = np.arange(len(music_df_val_counts))           \n",
    "    \n",
    "    width = 0.3\n",
    "    \n",
    "    # Plotting\n",
    "    plt.bar(num_bars, music_df_val_counts.values() , width, label='Original Dataset')\n",
    "    plt.bar(num_bars + width, generated_df_val_counts.values(), width, label='Generated Dataset')\n",
    "\n",
    "    plt.xticks(num_bars + width / 2, music_df_val_counts.keys())\n",
    "\n",
    "    plt.legend(loc='best')\n",
    "    plt.show()\n",
    "\n",
    "    \n",
    "    \n",
    "\n",
    "def determine_error_rate(generated_df):\n",
    "\n",
    "    num_errors = 0\n",
    "    for i in range(len(generated_df)):\n",
    "\n",
    "        if (generated_df.iloc[i]['transcription'] == ''):\n",
    "            num_errors += 1\n",
    "            #print(f\"Error found - {i}, transcription\")\n",
    "        elif (pd.isnull(generated_df.iloc[i]['transcription'])):\n",
    "            num_errors += 1\n",
    "        elif pd.isnull(generated_df.iloc[i]['K']):\n",
    "            num_errors += 1\n",
    "        elif not (all(i.isalpha() for i in generated_df.iloc[i]['K'])):\n",
    "            num_errors += 1\n",
    "        elif pd.isnull(generated_df.iloc[i]['M']):\n",
    "            num_errors += 1\n",
    "        elif (any(i.isalpha() for i in generated_df.iloc[i]['M'])):\n",
    "            num_errors += 1\n",
    "        \n",
    "    error_rate = (num_errors / len(generated_df)) * 100\n",
    "        \n",
    "    return error_rate\n",
    "\n",
    "\n",
    "def get_average_similarity_score(music_df, generated_df):\n",
    "    \n",
    "    total_similarity_score = 0\n",
    "    for i in range(len(generated_df)):\n",
    "\n",
    "        generated_sample = generated_df.iloc[i][\"transcription\"]\n",
    "        max_similarity_score = 0\n",
    "\n",
    "        for j in range(len(music_df)):\n",
    "\n",
    "            original_sample = music_df.iloc[j][\"transcription\"]\n",
    "            similarity_score = SequenceMatcher(None, generated_sample, original_sample).ratio()\n",
    "\n",
    "            if similarity_score > max_similarity_score:\n",
    "                max_similarity_score = similarity_score\n",
    "\n",
    "        total_similarity_score += max_similarity_score\n",
    "\n",
    "    avg_similarity_score = total_similarity_score / len(generated_df)\n",
    "    return avg_similarity_score\n",
    "\n",
    "\n",
    "def get_length_comparison(music_df, generated_df):\n",
    "\n",
    "    return music_df['transcription'].apply(len).mean(), generated_df['transcription'].apply(len).mean()\n",
    "\n",
    "\n",
    "def evaluate_performance(music_df, generated_df):\n",
    "    print(\"-------------------------------------------------------------------------------------\")\n",
    "    print(\"Distribution Comparison - Meter / Time Signature\")\n",
    "    compare_distributions(music_df, generated_df, 'M')\n",
    "    print(\"-------------------------------------------------------------------------------------\")\n",
    "    print()\n",
    "    \n",
    "    print(\"-------------------------------------------------------------------------------------\")\n",
    "    print(\"Distribution Comparison - Key\")\n",
    "    compare_distributions(music_df, generated_df, 'K')\n",
    "    print(\"-------------------------------------------------------------------------------------\")\n",
    "    print()\n",
    "    \n",
    "    print(\"-------------------------------------------------------------------------------------\")\n",
    "    print(\"Average Length Comparison\")\n",
    "    original_length, generated_length = get_length_comparison(music_df, generated_df)\n",
    "    print(f\"Original Average Transcription Length - {original_length}\")\n",
    "    print(f\"Generated Average Transcription Length - {generated_length}\")\n",
    "    print(\"-------------------------------------------------------------------------------------\")\n",
    "    print()\n",
    "\n",
    "    print(\"-------------------------------------------------------------------------------------\")\n",
    "    print(f\"Error Rate - {determine_error_rate(generated_df)}%\")\n",
    "    print(\"-------------------------------------------------------------------------------------\")\n",
    "    print()\n",
    "    \n",
    "    print(\"-------------------------------------------------------------------------------------\")\n",
    "    print(f\"Average Max Similarity Score - {get_average_similarity_score(music_df, generated_df)}\")\n",
    "    print(\"-------------------------------------------------------------------------------------\")\n",
    "    print()"
   ]
  },
  {
   "cell_type": "code",
   "execution_count": 5,
   "metadata": {
    "id": "pXJhohmY38on"
   },
   "outputs": [],
   "source": []
  },
  {
   "cell_type": "code",
   "execution_count": 5,
   "metadata": {
    "id": "G-1-5RRo380Z"
   },
   "outputs": [],
   "source": []
  },
  {
   "cell_type": "code",
   "execution_count": 6,
   "metadata": {
    "id": "GT4VdE43ol63"
   },
   "outputs": [],
   "source": [
    "data_directory = \"drive/MyDrive/Data/\"\n",
    "data_file = \"Data_Tunes.txt\"\n",
    "char_index_json = \"char_to_index.json\"\n",
    "\n",
    "file_ = open(data_directory+data_file, 'r')\n",
    "data_lines = file_.readlines()\n",
    "music_df = convert_to_df(data_lines)\n",
    "\n",
    "file_ = open(os.path.join(data_directory, data_file), mode = 'r')\n",
    "data = file_.read()\n",
    "\n",
    "char_index_dict, index_char_dict = give_characters_indexes(data)\n",
    "num_unique_chars = len(char_index_dict)\n",
    "all_characters = np.asarray([char_index_dict[c] for c in data], dtype = np.int32)"
   ]
  },
  {
   "cell_type": "code",
   "execution_count": 7,
   "metadata": {
    "colab": {
     "base_uri": "https://localhost:8080/",
     "height": 424
    },
    "id": "MVghyZhBnNiF",
    "outputId": "f3cb0ced-1f4e-4c2e-e081-3eae09766a7e"
   },
   "outputs": [
    {
     "data": {
      "text/html": [
       "<div>\n",
       "<style scoped>\n",
       "    .dataframe tbody tr th:only-of-type {\n",
       "        vertical-align: middle;\n",
       "    }\n",
       "\n",
       "    .dataframe tbody tr th {\n",
       "        vertical-align: top;\n",
       "    }\n",
       "\n",
       "    .dataframe thead th {\n",
       "        text-align: right;\n",
       "    }\n",
       "</style>\n",
       "<table border=\"1\" class=\"dataframe\">\n",
       "  <thead>\n",
       "    <tr style=\"text-align: right;\">\n",
       "      <th></th>\n",
       "      <th>transcription</th>\n",
       "      <th>M</th>\n",
       "      <th>K</th>\n",
       "    </tr>\n",
       "  </thead>\n",
       "  <tbody>\n",
       "    <tr>\n",
       "      <th>0</th>\n",
       "      <td>f|\"A\"ecc c2f|\"A\"ecc c2f|\"A\"ecc c2f|\"Bm\"BcB \"E7...</td>\n",
       "      <td>6/8</td>\n",
       "      <td>D</td>\n",
       "    </tr>\n",
       "    <tr>\n",
       "      <th>1</th>\n",
       "      <td>\"G\"g2g B^AB|d2d G3|\"Em\"GAB \"Am\"A2A|\"D7\"ABc \"G\"...</td>\n",
       "      <td>6/8</td>\n",
       "      <td>G</td>\n",
       "    </tr>\n",
       "    <tr>\n",
       "      <th>2</th>\n",
       "      <td>A|\"D\" def fed|\"G\" BdB AFD| \"D\"DFA \"G\"B2 A|\"Em\"...</td>\n",
       "      <td>6/8</td>\n",
       "      <td>D</td>\n",
       "    </tr>\n",
       "    <tr>\n",
       "      <th>3</th>\n",
       "      <td>|d/2c/2\\!segno! \"G\"B2B Bgf|\"C\"e2e efg|\"G\"ded \"...</td>\n",
       "      <td>6/8</td>\n",
       "      <td>G</td>\n",
       "    </tr>\n",
       "    <tr>\n",
       "      <th>4</th>\n",
       "      <td>e|\"A\"eaf e2c|\"E7\"BAB \"A\"c3|\"A\"E2A \"E7/b\"BAB|\"A...</td>\n",
       "      <td>6/8</td>\n",
       "      <td>A</td>\n",
       "    </tr>\n",
       "    <tr>\n",
       "      <th>...</th>\n",
       "      <td>...</td>\n",
       "      <td>...</td>\n",
       "      <td>...</td>\n",
       "    </tr>\n",
       "    <tr>\n",
       "      <th>1031</th>\n",
       "      <td>d|\"G\"d2B \"C\"c2d|\"G\"BAG \"D7\"A2F|\"G\"G2G \"C\"ABc|\"...</td>\n",
       "      <td>6/8</td>\n",
       "      <td>G</td>\n",
       "    </tr>\n",
       "    <tr>\n",
       "      <th>1032</th>\n",
       "      <td>D|\"Dm\"D2A A2G|\"Dm\"F2F F2E|\"Dm\"D2E F2G|\"A7\"A3 -...</td>\n",
       "      <td>6/8</td>\n",
       "      <td>Dm</td>\n",
       "    </tr>\n",
       "    <tr>\n",
       "      <th>1033</th>\n",
       "      <td>D|\"D\"D2A A2B|\"D\"A2F D2C|\"D\"D2E F2G|\"A7\"A3 -A2D...</td>\n",
       "      <td>6/8</td>\n",
       "      <td>D</td>\n",
       "    </tr>\n",
       "    <tr>\n",
       "      <th>1034</th>\n",
       "      <td>G|\"G\"G2A B2A|\"G\"G2A B2A|\"G\"G2d d2d|\"D7\"d3 -d2:...</td>\n",
       "      <td>4/4</td>\n",
       "      <td>G</td>\n",
       "    </tr>\n",
       "    <tr>\n",
       "      <th>1035</th>\n",
       "      <td>\"Em\"B2A G2E|\"B7\"FGF \"Em\"E3|\"Em\"B2A G2E|\"B7\"FGF...</td>\n",
       "      <td>6/8</td>\n",
       "      <td>Em</td>\n",
       "    </tr>\n",
       "  </tbody>\n",
       "</table>\n",
       "<p>1036 rows × 3 columns</p>\n",
       "</div>"
      ],
      "text/plain": [
       "                                          transcription    M   K\n",
       "0     f|\"A\"ecc c2f|\"A\"ecc c2f|\"A\"ecc c2f|\"Bm\"BcB \"E7...  6/8   D\n",
       "1     \"G\"g2g B^AB|d2d G3|\"Em\"GAB \"Am\"A2A|\"D7\"ABc \"G\"...  6/8   G\n",
       "2     A|\"D\" def fed|\"G\" BdB AFD| \"D\"DFA \"G\"B2 A|\"Em\"...  6/8   D\n",
       "3     |d/2c/2\\!segno! \"G\"B2B Bgf|\"C\"e2e efg|\"G\"ded \"...  6/8   G\n",
       "4     e|\"A\"eaf e2c|\"E7\"BAB \"A\"c3|\"A\"E2A \"E7/b\"BAB|\"A...  6/8   A\n",
       "...                                                 ...  ...  ..\n",
       "1031  d|\"G\"d2B \"C\"c2d|\"G\"BAG \"D7\"A2F|\"G\"G2G \"C\"ABc|\"...  6/8   G\n",
       "1032  D|\"Dm\"D2A A2G|\"Dm\"F2F F2E|\"Dm\"D2E F2G|\"A7\"A3 -...  6/8  Dm\n",
       "1033  D|\"D\"D2A A2B|\"D\"A2F D2C|\"D\"D2E F2G|\"A7\"A3 -A2D...  6/8   D\n",
       "1034  G|\"G\"G2A B2A|\"G\"G2A B2A|\"G\"G2d d2d|\"D7\"d3 -d2:...  4/4   G\n",
       "1035  \"Em\"B2A G2E|\"B7\"FGF \"Em\"E3|\"Em\"B2A G2E|\"B7\"FGF...  6/8  Em\n",
       "\n",
       "[1036 rows x 3 columns]"
      ]
     },
     "execution_count": 7,
     "metadata": {},
     "output_type": "execute_result"
    }
   ],
   "source": [
    "music_df"
   ]
  },
  {
   "cell_type": "markdown",
   "metadata": {
    "id": "kmg0m99FqUZK"
   },
   "source": [
    "# Data Loader"
   ]
  },
  {
   "cell_type": "code",
   "execution_count": 8,
   "metadata": {
    "id": "dcA2AiXtrjU3"
   },
   "outputs": [],
   "source": [
    "# Data loading function from here - https://medium.datadriveninvestor.com/music-generation-using-deep-learning-85010fb982e2"
   ]
  },
  {
   "cell_type": "code",
   "execution_count": 9,
   "metadata": {
    "id": "QIz7FGunol91"
   },
   "outputs": [],
   "source": [
    "def data_loader(all_characters, num_unique_chars, batch_size, seq_length):\n",
    "    length = all_characters.shape[0]\n",
    "    batch_chars = int(length / batch_size) \n",
    "    \n",
    "    for start in range(0, batch_chars - seq_length, seq_length):  \n",
    "\n",
    "        X = np.zeros((batch_size, seq_length))    \n",
    "        Y = np.zeros((batch_size, seq_length, num_unique_chars))   \n",
    "        \n",
    "        for batch_index in range(0, batch_size):    \n",
    "\n",
    "            for i in range(0, seq_length):  \n",
    "\n",
    "                X[batch_index, i] = all_characters[batch_index * batch_chars + start + i]\n",
    "                Y[batch_index, i, all_characters[batch_index * batch_chars + start + i + 1]] = 1 \n",
    "                \n",
    "        yield X, Y"
   ]
  },
  {
   "cell_type": "code",
   "execution_count": null,
   "metadata": {
    "id": "vwR7ywMtomAQ"
   },
   "outputs": [],
   "source": []
  },
  {
   "cell_type": "markdown",
   "metadata": {
    "id": "vL2wZJOYcfD2"
   },
   "source": [
    "# Baseline Model"
   ]
  },
  {
   "cell_type": "code",
   "execution_count": 10,
   "metadata": {
    "id": "KSD5TQ7yrUTo"
   },
   "outputs": [],
   "source": [
    "model_weights_directory = 'drive/MyDrive/Data/Model_Weights/Model_1/Baseline/'\n",
    "generated_samples_directory = 'drive/MyDrive/Data/Generated_Samples/Model_1/Baseline/'"
   ]
  },
  {
   "cell_type": "code",
   "execution_count": 11,
   "metadata": {
    "id": "mO146CmvomE7"
   },
   "outputs": [],
   "source": [
    "batch_size = 64\n",
    "seq_length = 50\n",
    "num_epochs = 200"
   ]
  },
  {
   "cell_type": "code",
   "execution_count": 12,
   "metadata": {
    "id": "QTJEhaFGcl4d"
   },
   "outputs": [],
   "source": [
    "lr_schedule = tf.keras.optimizers.schedules.ExponentialDecay(\n",
    " initial_learning_rate = 0.003, decay_steps = 20, decay_rate = 0.97, \n",
    "  staircase=False)\n",
    "\n",
    "optimizer_ = tf.keras.optimizers.RMSprop(lr_schedule)"
   ]
  },
  {
   "cell_type": "code",
   "execution_count": 13,
   "metadata": {
    "colab": {
     "base_uri": "https://localhost:8080/"
    },
    "id": "Y6ZFD_3zcmDx",
    "outputId": "56af9fe7-c129-4b59-a54e-36dfa0f33ff0"
   },
   "outputs": [
    {
     "name": "stdout",
     "output_type": "stream",
     "text": [
      "Model: \"sequential\"\n",
      "_________________________________________________________________\n",
      "Layer (type)                 Output Shape              Param #   \n",
      "=================================================================\n",
      "embedding (Embedding)        (64, 50, 512)             47616     \n",
      "_________________________________________________________________\n",
      "lstm (LSTM)                  (64, 50, 512)             2099200   \n",
      "_________________________________________________________________\n",
      "dropout (Dropout)            (64, 50, 512)             0         \n",
      "_________________________________________________________________\n",
      "lstm_1 (LSTM)                (64, 50, 512)             2099200   \n",
      "_________________________________________________________________\n",
      "dropout_1 (Dropout)          (64, 50, 512)             0         \n",
      "_________________________________________________________________\n",
      "lstm_2 (LSTM)                (64, 50, 512)             2099200   \n",
      "_________________________________________________________________\n",
      "dropout_2 (Dropout)          (64, 50, 512)             0         \n",
      "_________________________________________________________________\n",
      "time_distributed (TimeDistri (64, 50, 93)              47709     \n",
      "_________________________________________________________________\n",
      "activation (Activation)      (64, 50, 93)              0         \n",
      "=================================================================\n",
      "Total params: 6,392,925\n",
      "Trainable params: 6,392,925\n",
      "Non-trainable params: 0\n",
      "_________________________________________________________________\n"
     ]
    }
   ],
   "source": [
    "model = Sequential()\n",
    "    \n",
    "model.add(Embedding(input_dim = num_unique_chars, output_dim = 512, batch_input_shape = (batch_size, seq_length))) \n",
    "\n",
    "model.add(LSTM(512, return_sequences = True, stateful = True))\n",
    "model.add(Dropout(0.5))\n",
    "\n",
    "model.add(LSTM(512, return_sequences = True, stateful = True))\n",
    "model.add(Dropout(0.5))\n",
    "\n",
    "model.add(LSTM(512, return_sequences = True, stateful = True))\n",
    "model.add(Dropout(0.5))\n",
    "\n",
    "model.add(TimeDistributed(Dense(num_unique_chars)))\n",
    "\n",
    "model.add(Activation(\"softmax\"))\n",
    "\n",
    "\n",
    "model.compile(loss = \"categorical_crossentropy\", optimizer = optimizer_, metrics = [\"accuracy\"])\n",
    "model.summary()\n"
   ]
  },
  {
   "cell_type": "code",
   "execution_count": null,
   "metadata": {
    "colab": {
     "base_uri": "https://localhost:8080/",
     "height": 953
    },
    "id": "B9AfepPfdHqL",
    "outputId": "0a5c8895-6cb6-43c1-b3a7-b99efad18c5a"
   },
   "outputs": [
    {
     "data": {
      "image/png": "[encoded data removed]",
      "text/plain": [
       "<IPython.core.display.Image object>"
      ]
     },
     "execution_count": 15,
     "metadata": {},
     "output_type": "execute_result"
    }
   ],
   "source": [
    "tf.keras.utils.plot_model(model)"
   ]
  },
  {
   "cell_type": "code",
   "execution_count": null,
   "metadata": {
    "colab": {
     "base_uri": "https://localhost:8080/"
    },
    "id": "n-5XCiE2omIE",
    "outputId": "91d7af5c-2397-4dad-d3cc-c672421a0370"
   },
   "outputs": [
    {
     "name": "stdout",
     "output_type": "stream",
     "text": [
      "Epoch 1/200\n",
      "Epoch 2/200\n",
      "Epoch 3/200\n",
      "Epoch 4/200\n",
      "Epoch 5/200\n",
      "Epoch 6/200\n",
      "Epoch 7/200\n",
      "Epoch 8/200\n",
      "Epoch 9/200\n",
      "Epoch 10/200\n",
      "Saved Weights at epoch 10 to file Weights_10.h5\n",
      "Epoch 11/200\n",
      "Epoch 12/200\n",
      "Epoch 13/200\n",
      "Epoch 14/200\n",
      "Epoch 15/200\n",
      "Epoch 16/200\n",
      "Epoch 17/200\n",
      "Epoch 18/200\n",
      "Epoch 19/200\n",
      "Epoch 20/200\n",
      "Saved Weights at epoch 20 to file Weights_20.h5\n",
      "Epoch 21/200\n",
      "Epoch 22/200\n",
      "Epoch 23/200\n",
      "Epoch 24/200\n",
      "Epoch 25/200\n",
      "Epoch 26/200\n",
      "Epoch 27/200\n",
      "Epoch 28/200\n",
      "Epoch 29/200\n",
      "Epoch 30/200\n",
      "Saved Weights at epoch 30 to file Weights_30.h5\n",
      "Epoch 31/200\n",
      "Epoch 32/200\n",
      "Epoch 33/200\n",
      "Epoch 34/200\n",
      "Epoch 35/200\n",
      "Epoch 36/200\n",
      "Epoch 37/200\n",
      "Epoch 38/200\n",
      "Epoch 39/200\n",
      "Epoch 40/200\n",
      "Saved Weights at epoch 40 to file Weights_40.h5\n",
      "Epoch 41/200\n",
      "Epoch 42/200\n",
      "Epoch 43/200\n",
      "Epoch 44/200\n",
      "Epoch 45/200\n",
      "Epoch 46/200\n",
      "Epoch 47/200\n",
      "Epoch 48/200\n",
      "Epoch 49/200\n",
      "Epoch 50/200\n",
      "Saved Weights at epoch 50 to file Weights_50.h5\n",
      "Epoch 51/200\n",
      "Epoch 52/200\n",
      "Epoch 53/200\n",
      "Epoch 54/200\n",
      "Epoch 55/200\n",
      "Epoch 56/200\n",
      "Epoch 57/200\n",
      "Epoch 58/200\n",
      "Epoch 59/200\n",
      "Epoch 60/200\n",
      "Saved Weights at epoch 60 to file Weights_60.h5\n",
      "Epoch 61/200\n",
      "Epoch 62/200\n",
      "Epoch 63/200\n",
      "Epoch 64/200\n",
      "Epoch 65/200\n",
      "Epoch 66/200\n",
      "Epoch 67/200\n",
      "Epoch 68/200\n",
      "Epoch 69/200\n",
      "Epoch 70/200\n",
      "Saved Weights at epoch 70 to file Weights_70.h5\n",
      "Epoch 71/200\n",
      "Epoch 72/200\n",
      "Epoch 73/200\n",
      "Epoch 74/200\n",
      "Epoch 75/200\n",
      "Epoch 76/200\n",
      "Epoch 77/200\n",
      "Epoch 78/200\n",
      "Epoch 79/200\n",
      "Epoch 80/200\n",
      "Saved Weights at epoch 80 to file Weights_80.h5\n",
      "Epoch 81/200\n",
      "Epoch 82/200\n",
      "Epoch 83/200\n",
      "Epoch 84/200\n",
      "Epoch 85/200\n",
      "Epoch 86/200\n",
      "Epoch 87/200\n",
      "Epoch 88/200\n",
      "Epoch 89/200\n",
      "Epoch 90/200\n",
      "Saved Weights at epoch 90 to file Weights_90.h5\n",
      "Epoch 91/200\n",
      "Epoch 92/200\n",
      "Epoch 93/200\n",
      "Epoch 94/200\n",
      "Epoch 95/200\n",
      "Epoch 96/200\n",
      "Epoch 97/200\n",
      "Epoch 98/200\n",
      "Epoch 99/200\n",
      "Epoch 100/200\n",
      "Saved Weights at epoch 100 to file Weights_100.h5\n",
      "Epoch 101/200\n",
      "Epoch 102/200\n",
      "Epoch 103/200\n",
      "Epoch 104/200\n",
      "Epoch 105/200\n",
      "Epoch 106/200\n",
      "Epoch 107/200\n",
      "Epoch 108/200\n",
      "Epoch 109/200\n",
      "Epoch 110/200\n",
      "Saved Weights at epoch 110 to file Weights_110.h5\n",
      "Epoch 111/200\n",
      "Epoch 112/200\n",
      "Epoch 113/200\n",
      "Epoch 114/200\n",
      "Epoch 115/200\n",
      "Epoch 116/200\n",
      "Epoch 117/200\n",
      "Epoch 118/200\n",
      "Epoch 119/200\n",
      "Epoch 120/200\n",
      "Saved Weights at epoch 120 to file Weights_120.h5\n",
      "Epoch 121/200\n",
      "Epoch 122/200\n",
      "Epoch 123/200\n",
      "Epoch 124/200\n",
      "Epoch 125/200\n",
      "Epoch 126/200\n",
      "Epoch 127/200\n",
      "Epoch 128/200\n",
      "Epoch 129/200\n",
      "Epoch 130/200\n",
      "Saved Weights at epoch 130 to file Weights_130.h5\n",
      "Epoch 131/200\n",
      "Epoch 132/200\n",
      "Epoch 133/200\n",
      "Epoch 134/200\n",
      "Epoch 135/200\n",
      "Epoch 136/200\n",
      "Epoch 137/200\n",
      "Epoch 138/200\n",
      "Epoch 139/200\n",
      "Epoch 140/200\n",
      "Saved Weights at epoch 140 to file Weights_140.h5\n",
      "Epoch 141/200\n",
      "Epoch 142/200\n",
      "Epoch 143/200\n",
      "Epoch 144/200\n",
      "Epoch 145/200\n",
      "Epoch 146/200\n",
      "Epoch 147/200\n",
      "Epoch 148/200\n",
      "Epoch 149/200\n",
      "Epoch 150/200\n",
      "Saved Weights at epoch 150 to file Weights_150.h5\n",
      "Epoch 151/200\n",
      "Epoch 152/200\n",
      "Epoch 153/200\n",
      "Epoch 154/200\n",
      "Epoch 155/200\n",
      "Epoch 156/200\n",
      "Epoch 157/200\n",
      "Epoch 158/200\n",
      "Epoch 159/200\n",
      "Epoch 160/200\n",
      "Saved Weights at epoch 160 to file Weights_160.h5\n",
      "Epoch 161/200\n",
      "Epoch 162/200\n",
      "Epoch 163/200\n",
      "Epoch 164/200\n",
      "Epoch 165/200\n",
      "Epoch 166/200\n",
      "Epoch 167/200\n",
      "Epoch 168/200\n",
      "Epoch 169/200\n",
      "Epoch 170/200\n",
      "Saved Weights at epoch 170 to file Weights_170.h5\n",
      "Epoch 171/200\n",
      "Epoch 172/200\n",
      "Epoch 173/200\n",
      "Epoch 174/200\n",
      "Epoch 175/200\n",
      "Epoch 176/200\n",
      "Epoch 177/200\n",
      "Epoch 178/200\n",
      "Epoch 179/200\n",
      "Epoch 180/200\n",
      "Saved Weights at epoch 180 to file Weights_180.h5\n",
      "Epoch 181/200\n",
      "Epoch 182/200\n",
      "Epoch 183/200\n",
      "Epoch 184/200\n",
      "Epoch 185/200\n",
      "Epoch 186/200\n",
      "Epoch 187/200\n",
      "Epoch 188/200\n",
      "Epoch 189/200\n",
      "Epoch 190/200\n",
      "Saved Weights at epoch 190 to file Weights_190.h5\n",
      "Epoch 191/200\n",
      "Epoch 192/200\n",
      "Epoch 193/200\n",
      "Epoch 194/200\n",
      "Epoch 195/200\n",
      "Epoch 196/200\n",
      "Epoch 197/200\n",
      "Epoch 198/200\n",
      "Epoch 199/200\n",
      "Epoch 200/200\n",
      "Saved Weights at epoch 200 to file Weights_200.h5\n",
      "Loss: 0.8976807594299316\n",
      "Accuracy: 0.7181249856948853\n"
     ]
    }
   ],
   "source": [
    "for epoch in range(1, num_epochs+1):\n",
    "    print(f\"Epoch {epoch}/{num_epochs}\")\n",
    "\n",
    "    for j, (x, y) in enumerate(data_loader(all_characters, num_unique_chars, batch_size, seq_length)):\n",
    "        loss, accuracy = model.train_on_batch(x, y)\n",
    "    \n",
    "print(f\"Loss: {loss}\")\n",
    "print(f\"Accuracy: {accuracy}\")\n",
    "\n",
    "model.save_weights(os.path.join(model_weights_directory, \"Weights_{}.h5\".format(epoch)))"
   ]
  },
  {
   "cell_type": "code",
   "execution_count": 14,
   "metadata": {
    "colab": {
     "base_uri": "https://localhost:8080/"
    },
    "id": "QZzX9nx2mcgy",
    "outputId": "56fc6a93-ec85-4429-a5ad-2acc8aadb4fa"
   },
   "outputs": [
    {
     "data": {
      "text/plain": [
       "93"
      ]
     },
     "execution_count": 14,
     "metadata": {},
     "output_type": "execute_result"
    }
   ],
   "source": [
    "num_unique_chars"
   ]
  },
  {
   "cell_type": "markdown",
   "metadata": {
    "id": "wRo6WsReF-l_"
   },
   "source": [
    "Generation"
   ]
  },
  {
   "cell_type": "code",
   "execution_count": 15,
   "metadata": {
    "id": "1dcp_txoqVVq"
   },
   "outputs": [],
   "source": [
    "def make_model(num_unique_chars):\n",
    "    generator_model = Sequential()\n",
    "\n",
    "    generator_model.add(Embedding(input_dim = num_unique_chars, output_dim = 512, batch_input_shape = (1, 1))) \n",
    "\n",
    "    generator_model.add(LSTM(512, return_sequences = True, stateful = True))\n",
    "    generator_model.add(Dropout(0.5))\n",
    "\n",
    "    generator_model.add(LSTM(512, return_sequences = True, stateful = True))\n",
    "    generator_model.add(Dropout(0.5))\n",
    "\n",
    "    generator_model.add(LSTM(512, return_sequences = True, stateful = True))\n",
    "    generator_model.add(Dropout(0.5))\n",
    "\n",
    "    generator_model.add((Dense(num_unique_chars)))\n",
    "\n",
    "    generator_model.add(Activation(\"softmax\"))\n",
    "\n",
    "    return generator_model"
   ]
  },
  {
   "cell_type": "code",
   "execution_count": 19,
   "metadata": {
    "id": "Imh7zyF5GAA3"
   },
   "outputs": [],
   "source": [
    "seed_index = 73\n",
    "seq_length = 500\n",
    "\n",
    "music = ''\n",
    "all_rows = []\n",
    "\n",
    "for k in range(100):\n",
    "\n",
    "    generated_sample = generate_sequence(epoch_num = 200, initial_index = seed_index, seq_length = seq_length)\n",
    "    all_rows.append(convert_sample_to_dict(generated_sample))\n",
    "\n",
    "    music += generated_sample\n",
    "    music += '\\n'\n",
    "    music += '\\n'\n",
    "\n",
    "\n",
    "# Write samples to file \n",
    "textfile = open(generated_samples_directory+'generated_samples.txt', 'w')\n",
    "textfile.write(music)\n",
    "textfile.close()\n",
    "\n",
    "# Converting samples to a dataframe\n",
    "generated_df = pd.DataFrame(all_rows)"
   ]
  },
  {
   "cell_type": "code",
   "execution_count": 20,
   "metadata": {
    "colab": {
     "base_uri": "https://localhost:8080/",
     "height": 424
    },
    "id": "-vCY23YG7GPo",
    "outputId": "4ee99719-17c3-42be-f79a-a920b2d1289d"
   },
   "outputs": [
    {
     "data": {
      "text/html": [
       "<div>\n",
       "<style scoped>\n",
       "    .dataframe tbody tr th:only-of-type {\n",
       "        vertical-align: middle;\n",
       "    }\n",
       "\n",
       "    .dataframe tbody tr th {\n",
       "        vertical-align: top;\n",
       "    }\n",
       "\n",
       "    .dataframe thead th {\n",
       "        text-align: right;\n",
       "    }\n",
       "</style>\n",
       "<table border=\"1\" class=\"dataframe\">\n",
       "  <thead>\n",
       "    <tr style=\"text-align: right;\">\n",
       "      <th></th>\n",
       "      <th>transcription</th>\n",
       "      <th>M</th>\n",
       "      <th>K</th>\n",
       "    </tr>\n",
       "  </thead>\n",
       "  <tbody>\n",
       "    <tr>\n",
       "      <th>0</th>\n",
       "      <td>|:\"D\"a2 fd|\"D\"ff de|\"D\"d3d|\"D\"d2 d2|\"E7\"ef ab|...</td>\n",
       "      <td>3/4</td>\n",
       "      <td>D</td>\n",
       "    </tr>\n",
       "    <tr>\n",
       "      <th>1</th>\n",
       "      <td>D|\"Bm\"GFF \"A7\"GAA|\"D\"AAF \"E7\"GAG|\"A\"AAA \"D\"dAF...</td>\n",
       "      <td>6/8</td>\n",
       "      <td>G</td>\n",
       "    </tr>\n",
       "    <tr>\n",
       "      <th>2</th>\n",
       "      <td>BB |\"Em\"g3/2g/2 \"Am\"e/2f/2e|\"Dm\"d\"A7\"e \"Gm\"d2|...</td>\n",
       "      <td>4/4</td>\n",
       "      <td>C</td>\n",
       "    </tr>\n",
       "    <tr>\n",
       "      <th>3</th>\n",
       "      <td>|:G/2A/2|\"G\"d2B B2c|\"G\"d2g \"D7\"fed|\"D/f+\"c2d \"...</td>\n",
       "      <td>6/8</td>\n",
       "      <td>G</td>\n",
       "    </tr>\n",
       "    <tr>\n",
       "      <th>4</th>\n",
       "      <td>F|\"Em\"E2F G2G|\"D\"F2A d2c|\"D\"cdd \"D\"fgf|\"Em\"edc...</td>\n",
       "      <td>NaN</td>\n",
       "      <td>A</td>\n",
       "    </tr>\n",
       "    <tr>\n",
       "      <th>...</th>\n",
       "      <td>...</td>\n",
       "      <td>...</td>\n",
       "      <td>...</td>\n",
       "    </tr>\n",
       "    <tr>\n",
       "      <th>95</th>\n",
       "      <td>A/2G/2|\"D\"F2F \"D7\"D2E|\"G\"G2G \"D7\"F2D|\"G\"G2B \"D...</td>\n",
       "      <td>6/8</td>\n",
       "      <td>F</td>\n",
       "    </tr>\n",
       "    <tr>\n",
       "      <th>96</th>\n",
       "      <td>\"A7\"A/2G/2 E/2E/2|\"D\"F/2A/2 F/2A/4A/4|\"G\"B/2A/...</td>\n",
       "      <td>4/4</td>\n",
       "      <td>A</td>\n",
       "    </tr>\n",
       "    <tr>\n",
       "      <th>97</th>\n",
       "      <td>\"G\"D3|:\"G\"G2G \"D7\"^A2D|\"D7\"FED FGA|\"G\"d^cd ggg...</td>\n",
       "      <td>6/8</td>\n",
       "      <td>G</td>\n",
       "    </tr>\n",
       "    <tr>\n",
       "      <th>98</th>\n",
       "      <td>E/2G/2|\"D\"F/2E/2F/2E/2 \"A\"A/2A/2B/2c/2|\"D\"Ad \"...</td>\n",
       "      <td>4/4</td>\n",
       "      <td>D</td>\n",
       "    </tr>\n",
       "    <tr>\n",
       "      <th>99</th>\n",
       "      <td>DE|\"G\"GGA d2G|GGc ded|\"D7\"c^GA d2A|\"G\"BGA BAG|...</td>\n",
       "      <td>6/8</td>\n",
       "      <td>G</td>\n",
       "    </tr>\n",
       "  </tbody>\n",
       "</table>\n",
       "<p>100 rows × 3 columns</p>\n",
       "</div>"
      ],
      "text/plain": [
       "                                        transcription    M  K\n",
       "0   |:\"D\"a2 fd|\"D\"ff de|\"D\"d3d|\"D\"d2 d2|\"E7\"ef ab|...  3/4  D\n",
       "1   D|\"Bm\"GFF \"A7\"GAA|\"D\"AAF \"E7\"GAG|\"A\"AAA \"D\"dAF...  6/8  G\n",
       "2   BB |\"Em\"g3/2g/2 \"Am\"e/2f/2e|\"Dm\"d\"A7\"e \"Gm\"d2|...  4/4  C\n",
       "3   |:G/2A/2|\"G\"d2B B2c|\"G\"d2g \"D7\"fed|\"D/f+\"c2d \"...  6/8  G\n",
       "4   F|\"Em\"E2F G2G|\"D\"F2A d2c|\"D\"cdd \"D\"fgf|\"Em\"edc...  NaN  A\n",
       "..                                                ...  ... ..\n",
       "95  A/2G/2|\"D\"F2F \"D7\"D2E|\"G\"G2G \"D7\"F2D|\"G\"G2B \"D...  6/8  F\n",
       "96  \"A7\"A/2G/2 E/2E/2|\"D\"F/2A/2 F/2A/4A/4|\"G\"B/2A/...  4/4  A\n",
       "97  \"G\"D3|:\"G\"G2G \"D7\"^A2D|\"D7\"FED FGA|\"G\"d^cd ggg...  6/8  G\n",
       "98  E/2G/2|\"D\"F/2E/2F/2E/2 \"A\"A/2A/2B/2c/2|\"D\"Ad \"...  4/4  D\n",
       "99  DE|\"G\"GGA d2G|GGc ded|\"D7\"c^GA d2A|\"G\"BGA BAG|...  6/8  G\n",
       "\n",
       "[100 rows x 3 columns]"
      ]
     },
     "execution_count": 20,
     "metadata": {},
     "output_type": "execute_result"
    }
   ],
   "source": [
    "generated_df"
   ]
  },
  {
   "cell_type": "code",
   "execution_count": 25,
   "metadata": {
    "colab": {
     "base_uri": "https://localhost:8080/",
     "height": 1000
    },
    "id": "p4Wgm-SJGU49",
    "outputId": "f02ecf2b-0143-4eec-b3c4-59ef8f5cc786"
   },
   "outputs": [
    {
     "name": "stdout",
     "output_type": "stream",
     "text": [
      "-------------------------------------------------------------------------------------\n",
      "Distribution Comparison - Meter / Time Signature\n",
      "\n",
      "Original Dataset Distribution\n",
      "{'4/4': 0.5222007722007722, '6/8': 0.3581081081081081, '3/4': 0.05694980694980695, '2/4': 0.03861003861003861, '9/8': 0.012548262548262547, '2/2': 0.006756756756756757, '3/2': 0.0028957528957528956, '6/4': 0.0009652509652509653, '5/4': 0.0009652509652509653}\n",
      "Generated Dataset Distribution\n",
      "{'4/4': 0.5483870967741935, '6/8': 0.3118279569892473, '3/4': 0.07526881720430108, '9/8': 0.03225806451612903, '2/4': 0.010752688172043012, '1/4': 0.010752688172043012, '8/8': 0.010752688172043012}\n",
      "\n",
      "Unique 'M' values to generated dataset: ['1/4', '8/8']\n",
      "\n"
     ]
    },
    {
     "data": {
      "image/png": "[encoded data removed]",
      "text/plain": [
       "<Figure size 1080x504 with 1 Axes>"
      ]
     },
     "metadata": {
      "needs_background": "light"
     },
     "output_type": "display_data"
    },
    {
     "name": "stdout",
     "output_type": "stream",
     "text": [
      "-------------------------------------------------------------------------------------\n",
      "\n",
      "-------------------------------------------------------------------------------------\n",
      "Distribution Comparison - Key\n",
      "\n",
      "Original Dataset Distribution\n",
      "{'D': 0.35424710424710426, 'G': 0.3359073359073359, 'A': 0.12355212355212356, 'C': 0.05791505791505792, 'Am': 0.037644787644787646, 'Em': 0.02702702702702703, 'F': 0.023166023166023165, 'Dm': 0.013513513513513514, 'Bb': 0.010617760617760617, 'Gm': 0.010617760617760617, 'Bm': 0.0028957528957528956, 'B': 0.0009652509652509653, 'Cm': 0.0009652509652509653, 'E': 0.0009652509652509653}\n",
      "Generated Dataset Distribution\n",
      "{'G': 0.3854166666666667, 'D': 0.3541666666666667, 'C': 0.09375, 'A': 0.07291666666666667, 'Dm': 0.020833333333333332, 'E': 0.010416666666666666, 'Am': 0.010416666666666666, 'Gm': 0.010416666666666666, 'Fm': 0.010416666666666666, 'Em': 0.010416666666666666, '(m': 0.010416666666666666, 'F': 0.010416666666666666}\n",
      "\n",
      "Unique 'K' values to generated dataset: ['Fm', '(m']\n",
      "\n"
     ]
    },
    {
     "data": {
      "image/png": "[encoded data removed]",
      "text/plain": [
       "<Figure size 1080x504 with 1 Axes>"
      ]
     },
     "metadata": {
      "needs_background": "light"
     },
     "output_type": "display_data"
    },
    {
     "name": "stdout",
     "output_type": "stream",
     "text": [
      "-------------------------------------------------------------------------------------\n",
      "\n",
      "-------------------------------------------------------------------------------------\n",
      "Average Length Comparison\n",
      "Original Average Transcription Length - 334.4150579150579\n",
      "Generated Average Transcription Length - 270.58\n",
      "-------------------------------------------------------------------------------------\n",
      "\n",
      "-------------------------------------------------------------------------------------\n",
      "Error Rate - 8.0%\n",
      "-------------------------------------------------------------------------------------\n",
      "\n",
      "-------------------------------------------------------------------------------------\n",
      "Average Max Similarity Score - 0.39863221125886866\n",
      "-------------------------------------------------------------------------------------\n",
      "\n"
     ]
    }
   ],
   "source": [
    "evaluate_performance(music_df, generated_df)"
   ]
  },
  {
   "cell_type": "code",
   "execution_count": null,
   "metadata": {
    "id": "8abqpt5wEDEK"
   },
   "outputs": [],
   "source": []
  },
  {
   "cell_type": "markdown",
   "metadata": {
    "id": "7TZFr-FrEDyp"
   },
   "source": [
    "### Play samples here!"
   ]
  },
  {
   "cell_type": "markdown",
   "metadata": {
    "id": "fuJxZtnJAMa5"
   },
   "source": [
    "### Observations\n",
    "\n",
    "- Overfitting slightly, while 0.4 isn't too high of a similarity score, (quote LFCS explanation link here), a an average of 40% max similarity for each track is bordering on overfitting/ copying. We want the model to produce truly unique tracks\n",
    "- Might try reducing the batch size"
   ]
  },
  {
   "cell_type": "code",
   "execution_count": 21,
   "metadata": {
    "id": "YDAkOit8LiwH"
   },
   "outputs": [],
   "source": []
  },
  {
   "cell_type": "code",
   "execution_count": 21,
   "metadata": {
    "id": "atlcqD2YLup7"
   },
   "outputs": [],
   "source": []
  },
  {
   "cell_type": "markdown",
   "metadata": {
    "id": "o-1n4USODNsF"
   },
   "source": [
    "# Experimentation - Batch Size\n",
    "Strategy \n",
    "- random intuitive search then grid search. Imma go with 16\n"
   ]
  },
  {
   "cell_type": "code",
   "execution_count": 21,
   "metadata": {
    "id": "Aby94AgyVR1k"
   },
   "outputs": [],
   "source": []
  },
  {
   "cell_type": "markdown",
   "metadata": {
    "id": "ektK7h4tDvC0"
   },
   "source": [
    "## Batch size = 16"
   ]
  },
  {
   "cell_type": "code",
   "execution_count": 26,
   "metadata": {
    "id": "2mDML_mVV5Qp"
   },
   "outputs": [],
   "source": [
    "model_weights_directory = 'drive/MyDrive/Data/Model_Weights/Model_1/BatchSize16/'\n",
    "generated_samples_directory = 'drive/MyDrive/Data/Generated_Samples/Model_1/BatchSize16/'"
   ]
  },
  {
   "cell_type": "code",
   "execution_count": null,
   "metadata": {
    "id": "1UR3I-VYWcVh"
   },
   "outputs": [],
   "source": []
  },
  {
   "cell_type": "code",
   "execution_count": 21,
   "metadata": {
    "id": "uNcJCI5cWcZb"
   },
   "outputs": [],
   "source": []
  }
 ],
 "metadata": {
  "accelerator": "GPU",
  "colab": {
   "collapsed_sections": [],
   "machine_shape": "hm",
   "name": "Untitled0.ipynb",
   "provenance": []
  },
  "kernelspec": {
   "display_name": "Python 3",
   "language": "python",
   "name": "python3"
  },
  "language_info": {
   "codemirror_mode": {
    "name": "ipython",
    "version": 3
   },
   "file_extension": ".py",
   "mimetype": "text/x-python",
   "name": "python",
   "nbconvert_exporter": "python",
   "pygments_lexer": "ipython3",
   "version": "3.8.8"
  }
 },
 "nbformat": 4,
 "nbformat_minor": 1
}
